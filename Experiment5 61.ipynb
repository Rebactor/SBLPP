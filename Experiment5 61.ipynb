{
 "cells": [
  {
   "cell_type": "code",
   "execution_count": null,
   "id": "2a66b825-021c-4f36-86a6-9eb329d0033b",
   "metadata": {},
   "outputs": [],
   "source": [
    "stack = list ()\n",
    "\n",
    "# Append Operation\n",
    "stack.append ('a')\n",
    "stack.append ('b')\n",
    "stack.append ('c')\n",
    "print ('Initial Stack')\n",
    "print (stack)"
   ]
  },
  {
   "cell_type": "code",
   "execution_count": 14,
   "id": "0adaef4c-7819-460d-b5c9-a2042c1c4384",
   "metadata": {},
   "outputs": [],
   "source": [
    "class StackDepth:\n",
    "    def maximumDepth (self, stringInput : str) -> int:\n",
    "        depth = 0\n",
    "        current_depth = 0\n",
    "        string = list(stringInput)\n",
    "        while string:\n",
    "            char = string.pop(0)\n",
    "            if(char == '('):\n",
    "                current_depth += 1\n",
    "                if current_depth>depth:\n",
    "                    depth +=1\n",
    "            elif(char== ')'):\n",
    "                       current_depth -=1\n",
    "        return depth\n"
   ]
  },
  {
   "cell_type": "code",
   "execution_count": 16,
   "id": "d93af2e9-9108-4875-b05b-00f57df6ca29",
   "metadata": {},
   "outputs": [
    {
     "name": "stdout",
     "output_type": "stream",
     "text": [
      "2\n",
      "3\n",
      "3\n"
     ]
    }
   ],
   "source": [
    "stack_depth = StackDepth()\n",
    "print(stack_depth.maximumDepth(\"(1+(2*3)+()8)/4))+1\"))\n",
    "print(stack_depth.maximumDepth(\"(1)+((2))+(((3)))\"))\n",
    "print(stack_depth.maximumDepth(\"()(())((()()))\"))\n"
   ]
  },
  {
   "cell_type": "code",
   "execution_count": null,
   "id": "2970950d-2c80-498b-b905-6b1a9d335cc6",
   "metadata": {},
   "outputs": [],
   "source": []
  }
 ],
 "metadata": {
  "kernelspec": {
   "display_name": "Python 3 (ipykernel)",
   "language": "python",
   "name": "python3"
  },
  "language_info": {
   "codemirror_mode": {
    "name": "ipython",
    "version": 3
   },
   "file_extension": ".py",
   "mimetype": "text/x-python",
   "name": "python",
   "nbconvert_exporter": "python",
   "pygments_lexer": "ipython3",
   "version": "3.12.7"
  }
 },
 "nbformat": 4,
 "nbformat_minor": 5
}
